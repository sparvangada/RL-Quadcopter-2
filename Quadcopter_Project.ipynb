{
 "cells": [
  {
   "cell_type": "markdown",
   "metadata": {
    "deletable": true,
    "editable": true
   },
   "source": [
    "# Project: Train a Quadcopter How to Fly\n",
    "\n",
    "Design an agent to fly a quadcopter, and then train it using a reinforcement learning algorithm of your choice! \n",
    "\n",
    "Try to apply the techniques you have learnt, but also feel free to come up with innovative ideas and test them."
   ]
  },
  {
   "cell_type": "markdown",
   "metadata": {
    "deletable": true,
    "editable": true
   },
   "source": [
    "## Instructions\n",
    "\n",
    "Take a look at the files in the directory to better understand the structure of the project. \n",
    "\n",
    "- `task.py`: Define your task (environment) in this file.\n",
    "- `agents/`: Folder containing reinforcement learning agents.\n",
    "    - `policy_search.py`: A sample agent has been provided here.\n",
    "    - `agent.py`: Develop your agent here.\n",
    "- `physics_sim.py`: This file contains the simulator for the quadcopter.  **DO NOT MODIFY THIS FILE**.\n",
    "\n",
    "For this project, you will define your own task in `task.py`.  Although we have provided a example task to get you started, you are encouraged to change it.  Later in this notebook, you will learn more about how to amend this file.\n",
    "\n",
    "You will also design a reinforcement learning agent in `agent.py` to complete your chosen task.  \n",
    "\n",
    "You are welcome to create any additional files to help you to organize your code.  For instance, you may find it useful to define a `model.py` file defining any needed neural network architectures.\n",
    "\n",
    "## Controlling the Quadcopter\n",
    "\n",
    "We provide a sample agent in the code cell below to show you how to use the sim to control the quadcopter.  This agent is even simpler than the sample agent that you'll examine (in `agents/policy_search.py`) later in this notebook!\n",
    "\n",
    "The agent controls the quadcopter by setting the revolutions per second on each of its four rotors.  The provided agent in the `Basic_Agent` class below always selects a random action for each of the four rotors.  These four speeds are returned by the `act` method as a list of four floating-point numbers.  \n",
    "\n",
    "For this project, the agent that you will implement in `agents/agent.py` will have a far more intelligent method for selecting actions!"
   ]
  },
  {
   "cell_type": "code",
   "execution_count": 1,
   "metadata": {
    "collapsed": true,
    "deletable": true,
    "editable": true
   },
   "outputs": [],
   "source": [
    "import random\n",
    "\n",
    "class Basic_Agent():\n",
    "    def __init__(self, task):\n",
    "        self.task = task\n",
    "    \n",
    "    def act(self):\n",
    "        new_thrust = random.gauss(450., 25.)\n",
    "        return [new_thrust + random.gauss(0., 1.) for x in range(4)]"
   ]
  },
  {
   "cell_type": "markdown",
   "metadata": {
    "deletable": true,
    "editable": true
   },
   "source": [
    "Run the code cell below to have the agent select actions to control the quadcopter.  \n",
    "\n",
    "Feel free to change the provided values of `runtime`, `init_pose`, `init_velocities`, and `init_angle_velocities` below to change the starting conditions of the quadcopter.\n",
    "\n",
    "The `labels` list below annotates statistics that are saved while running the simulation.  All of this information is saved in a text file `data.txt` and stored in the dictionary `results`.  "
   ]
  },
  {
   "cell_type": "code",
   "execution_count": 2,
   "metadata": {
    "collapsed": false,
    "deletable": true,
    "editable": true,
    "scrolled": false
   },
   "outputs": [
    {
     "name": "stdout",
     "output_type": "stream",
     "text": [
      "Total reward : 959.1033016226879\n"
     ]
    }
   ],
   "source": [
    "%load_ext autoreload\n",
    "%autoreload 2\n",
    "\n",
    "import csv\n",
    "import numpy as np\n",
    "from task import Task\n",
    "\n",
    "# Modify the values below to give the quadcopter a different starting position.\n",
    "runtime = 10.                                     # time limit of the episode\n",
    "init_pose = np.array([0., 0., 10., 0., 0., 0.])  # initial pose\n",
    "init_velocities = np.array([0., 0., 0.])         # initial velocities\n",
    "init_angle_velocities = np.array([0., 0., 0.])   # initial angle velocities\n",
    "file_output = 'data.txt'                         # file name for saved results\n",
    "\n",
    "# Setup\n",
    "task = Task(init_pose, init_velocities, init_angle_velocities, runtime)\n",
    "agent = Basic_Agent(task)\n",
    "done = False\n",
    "labels = ['time', 'x', 'y', 'z', 'phi', 'theta', 'psi', 'x_velocity',\n",
    "          'y_velocity', 'z_velocity', 'phi_velocity', 'theta_velocity',\n",
    "          'psi_velocity', 'rotor_speed1', 'rotor_speed2', 'rotor_speed3', 'rotor_speed4']\n",
    "results = {x : [] for x in labels}\n",
    "\n",
    "# Run the simulation, and save the results.\n",
    "with open(file_output, 'w') as csvfile:\n",
    "    writer = csv.writer(csvfile)\n",
    "    writer.writerow(labels)\n",
    "    total_reward=0\n",
    "    while True:\n",
    "        rotor_speeds = agent.act()\n",
    "        next_state,reward, done = task.step(rotor_speeds)\n",
    "        total_reward += reward\n",
    "        #print(\"next_state,reward,done: {},{},{}\" .format(next_state,reward,done))\n",
    "        to_write = [task.sim.time] + list(task.sim.pose) + list(task.sim.v) + list(task.sim.angular_v) + list(rotor_speeds)\n",
    "        for ii in range(len(labels)):\n",
    "            results[labels[ii]].append(to_write[ii])\n",
    "        writer.writerow(to_write)\n",
    "        if done:\n",
    "            print(\"Total reward : {}\" .format(total_reward))\n",
    "            break"
   ]
  },
  {
   "cell_type": "markdown",
   "metadata": {
    "deletable": true,
    "editable": true
   },
   "source": [
    "Run the code cell below to visualize how the position of the quadcopter evolved during the simulation."
   ]
  },
  {
   "cell_type": "code",
   "execution_count": 3,
   "metadata": {
    "collapsed": false,
    "deletable": true,
    "editable": true
   },
   "outputs": [
    {
     "data": {
      "image/png": "[encoded data removed]",
      "text/plain": [
       "<Figure size 432x288 with 1 Axes>"
      ]
     },
     "metadata": {},
     "output_type": "display_data"
    }
   ],
   "source": [
    "import matplotlib.pyplot as plt\n",
    "%matplotlib inline\n",
    "\n",
    "plt.plot(results['time'], results['x'], label='x')\n",
    "plt.plot(results['time'], results['y'], label='y')\n",
    "plt.plot(results['time'], results['z'], label='z')\n",
    "plt.legend()\n",
    "_ = plt.ylim()\n",
    "#plt.show"
   ]
  },
  {
   "cell_type": "markdown",
   "metadata": {
    "deletable": true,
    "editable": true
   },
   "source": [
    "The next code cell visualizes the velocity of the quadcopter."
   ]
  },
  {
   "cell_type": "code",
   "execution_count": 4,
   "metadata": {
    "collapsed": false,
    "deletable": true,
    "editable": true
   },
   "outputs": [
    {
     "data": {
      "image/png": "[encoded data removed]",
      "text/plain": [
       "<Figure size 432x288 with 1 Axes>"
      ]
     },
     "metadata": {},
     "output_type": "display_data"
    }
   ],
   "source": [
    "plt.plot(results['time'], results['x_velocity'], label='x_hat')\n",
    "plt.plot(results['time'], results['y_velocity'], label='y_hat')\n",
    "plt.plot(results['time'], results['z_velocity'], label='z_hat')\n",
    "plt.legend()\n",
    "_ = plt.ylim()"
   ]
  },
  {
   "cell_type": "markdown",
   "metadata": {
    "deletable": true,
    "editable": true
   },
   "source": [
    "Next, you can plot the Euler angles (the rotation of the quadcopter over the $x$-, $y$-, and $z$-axes),"
   ]
  },
  {
   "cell_type": "code",
   "execution_count": 5,
   "metadata": {
    "collapsed": false,
    "deletable": true,
    "editable": true
   },
   "outputs": [
    {
     "data": {
      "image/png": "[encoded data removed]",
      "text/plain": [
       "<Figure size 432x288 with 1 Axes>"
      ]
     },
     "metadata": {},
     "output_type": "display_data"
    }
   ],
   "source": [
    "plt.plot(results['time'], results['phi'], label='phi')\n",
    "plt.plot(results['time'], results['theta'], label='theta')\n",
    "plt.plot(results['time'], results['psi'], label='psi')\n",
    "plt.legend()\n",
    "_ = plt.ylim()"
   ]
  },
  {
   "cell_type": "markdown",
   "metadata": {
    "deletable": true,
    "editable": true
   },
   "source": [
    "before plotting the velocities (in radians per second) corresponding to each of the Euler angles."
   ]
  },
  {
   "cell_type": "code",
   "execution_count": 6,
   "metadata": {
    "collapsed": false,
    "deletable": true,
    "editable": true
   },
   "outputs": [
    {
     "data": {
      "image/png": "[encoded data removed]",
      "text/plain": [
       "<Figure size 432x288 with 1 Axes>"
      ]
     },
     "metadata": {},
     "output_type": "display_data"
    }
   ],
   "source": [
    "plt.plot(results['time'], results['phi_velocity'], label='phi_velocity')\n",
    "plt.plot(results['time'], results['theta_velocity'], label='theta_velocity')\n",
    "plt.plot(results['time'], results['psi_velocity'], label='psi_velocity')\n",
    "plt.legend()\n",
    "_ = plt.ylim()"
   ]
  },
  {
   "cell_type": "markdown",
   "metadata": {
    "deletable": true,
    "editable": true
   },
   "source": [
    "Finally, you can use the code cell below to print the agent's choice of actions.  "
   ]
  },
  {
   "cell_type": "code",
   "execution_count": 7,
   "metadata": {
    "collapsed": false,
    "deletable": true,
    "editable": true
   },
   "outputs": [
    {
     "data": {
      "image/png": "[encoded data removed]",
      "text/plain": [
       "<Figure size 432x288 with 1 Axes>"
      ]
     },
     "metadata": {},
     "output_type": "display_data"
    }
   ],
   "source": [
    "plt.plot(results['time'], results['rotor_speed1'], label='Rotor 1 revolutions / second')\n",
    "plt.plot(results['time'], results['rotor_speed2'], label='Rotor 2 revolutions / second')\n",
    "plt.plot(results['time'], results['rotor_speed3'], label='Rotor 3 revolutions / second')\n",
    "plt.plot(results['time'], results['rotor_speed4'], label='Rotor 4 revolutions / second')\n",
    "plt.legend()\n",
    "_ = plt.ylim()"
   ]
  },
  {
   "cell_type": "markdown",
   "metadata": {
    "deletable": true,
    "editable": true
   },
   "source": [
    "When specifying a task, you will derive the environment state from the simulator.  Run the code cell below to print the values of the following variables at the end of the simulation:\n",
    "- `task.sim.pose` (the position of the quadcopter in ($x,y,z$) dimensions and the Euler angles),\n",
    "- `task.sim.v` (the velocity of the quadcopter in ($x,y,z$) dimensions), and\n",
    "- `task.sim.angular_v` (radians/second for each of the three Euler angles)."
   ]
  },
  {
   "cell_type": "code",
   "execution_count": 8,
   "metadata": {
    "collapsed": false,
    "deletable": true,
    "editable": true,
    "scrolled": true
   },
   "outputs": [
    {
     "name": "stdout",
     "output_type": "stream",
     "text": [
      "[ -5.65859346 -59.13893178   0.           4.7440921    5.71590355\n",
      "   0.        ]\n",
      "[ -1.82094884 -22.9919576  -45.15488206]\n",
      "[-0.21855935 -0.25863719  0.        ]\n"
     ]
    }
   ],
   "source": [
    "# the pose, velocity, and angular velocity of the quadcopter at the end of the episode\n",
    "print(task.sim.pose)\n",
    "print(task.sim.v)\n",
    "print(task.sim.angular_v)"
   ]
  },
  {
   "cell_type": "markdown",
   "metadata": {
    "deletable": true,
    "editable": true
   },
   "source": [
    "In the sample task in `task.py`, we use the 6-dimensional pose of the quadcopter to construct the state of the environment at each timestep.  However, when amending the task for your purposes, you are welcome to expand the size of the state vector by including the velocity information.  You can use any combination of the pose, velocity, and angular velocity - feel free to tinker here, and construct the state to suit your task.\n",
    "\n",
    "## The Task\n",
    "\n",
    "A sample task has been provided for you in `task.py`.  Open this file in a new window now. \n",
    "\n",
    "The `__init__()` method is used to initialize several variables that are needed to specify the task.  \n",
    "- The simulator is initialized as an instance of the `PhysicsSim` class (from `physics_sim.py`).  \n",
    "- Inspired by the methodology in the original DDPG paper, we make use of action repeats.  For each timestep of the agent, we step the simulation `action_repeats` timesteps.  If you are not familiar with action repeats, please read the **Results** section in [the DDPG paper](https://arxiv.org/abs/1509.02971).\n",
    "- We set the number of elements in the state vector.  For the sample task, we only work with the 6-dimensional pose information.  To set the size of the state (`state_size`), we must take action repeats into account.  \n",
    "- The environment will always have a 4-dimensional action space, with one entry for each rotor (`action_size=4`). You can set the minimum (`action_low`) and maximum (`action_high`) values of each entry here.\n",
    "- The sample task in this provided file is for the agent to reach a target position.  We specify that target position as a variable.\n",
    "\n",
    "The `reset()` method resets the simulator.  The agent should call this method every time the episode ends.  You can see an example of this in the code cell below.\n",
    "\n",
    "The `step()` method is perhaps the most important.  It accepts the agent's choice of action `rotor_speeds`, which is used to prepare the next state to pass on to the agent.  Then, the reward is computed from `get_reward()`.  The episode is considered done if the time limit has been exceeded, or the quadcopter has travelled outside of the bounds of the simulation.\n",
    "\n",
    "In the next section, you will learn how to test the performance of an agent on this task."
   ]
  },
  {
   "cell_type": "markdown",
   "metadata": {
    "deletable": true,
    "editable": true
   },
   "source": [
    "## The Agent\n",
    "\n",
    "The sample agent given in `agents/policy_search.py` uses a very simplistic linear policy to directly compute the action vector as a dot product of the state vector and a matrix of weights. Then, it randomly perturbs the parameters by adding some Gaussian noise, to produce a different policy. Based on the average reward obtained in each episode (`score`), it keeps track of the best set of parameters found so far, how the score is changing, and accordingly tweaks a scaling factor to widen or tighten the noise.\n",
    "\n",
    "Run the code cell below to see how the agent performs on the sample task."
   ]
  },
  {
   "cell_type": "code",
   "execution_count": 9,
   "metadata": {
    "collapsed": false,
    "deletable": true,
    "editable": true
   },
   "outputs": [
    {
     "name": "stdout",
     "output_type": "stream",
     "text": [
      "Episode =  100, score =   6.421 (best =   6.421), noise_scale = 0.8625"
     ]
    }
   ],
   "source": [
    "import sys\n",
    "import pandas as pd\n",
    "from agents.policy_search import PolicySearch_Agent\n",
    "from task import Task\n",
    "\n",
    "num_episodes = 100\n",
    "target_pos = np.array([0., 0., 100.])\n",
    "task = Task(target_pos=target_pos)\n",
    "agent = PolicySearch_Agent(task) \n",
    "\n",
    "for i_episode in range(1, num_episodes+1):\n",
    "    state = agent.reset_episode() # start a new episode\n",
    "    while True:\n",
    "        action = agent.act(state) \n",
    "        next_state, reward, done = task.step(action)\n",
    "        agent.step(reward, done)\n",
    "        state = next_state\n",
    "        if done:\n",
    "            print(\"\\rEpisode = {:4d}, score = {:7.3f} (best = {:7.3f}), noise_scale = {}\".format(\n",
    "                i_episode, agent.score, agent.best_score, agent.noise_scale), end=\"\")  # [debug]\n",
    "            break\n",
    "    sys.stdout.flush()"
   ]
  },
  {
   "cell_type": "markdown",
   "metadata": {
    "deletable": true,
    "editable": true
   },
   "source": [
    "This agent should perform very poorly on this task.  And that's where you come in!"
   ]
  },
  {
   "cell_type": "markdown",
   "metadata": {
    "collapsed": true,
    "deletable": true,
    "editable": true
   },
   "source": [
    "## Define the Task, Design the Agent, and Train Your Agent!\n",
    "\n",
    "Amend `task.py` to specify a task of your choosing.  If you're unsure what kind of task to specify, you may like to teach your quadcopter to takeoff, hover in place, land softly, or reach a target pose.  \n",
    "\n",
    "After specifying your task, use the sample agent in `agents/policy_search.py` as a template to define your own agent in `agents/agent.py`.  You can borrow whatever you need from the sample agent, including ideas on how you might modularize your code (using helper methods like `act()`, `learn()`, `reset_episode()`, etc.).\n",
    "\n",
    "Note that it is **highly unlikely** that the first agent and task that you specify will learn well.  You will likely have to tweak various hyperparameters and the reward function for your task until you arrive at reasonably good behavior.\n",
    "\n",
    "As you develop your agent, it's important to keep an eye on how it's performing. Use the code above as inspiration to build in a mechanism to log/save the total rewards obtained in each episode to file.  If the episode rewards are gradually increasing, this is an indication that your agent is learning."
   ]
  },
  {
   "cell_type": "code",
   "execution_count": 10,
   "metadata": {
    "collapsed": false,
    "deletable": true,
    "editable": true,
    "scrolled": false
   },
   "outputs": [
    {
     "name": "stderr",
     "output_type": "stream",
     "text": [
      "Using TensorFlow backend.\n"
     ]
    },
    {
     "name": "stdout",
     "output_type": "stream",
     "text": [
      "Episode =    1, score = 162.037 (best = 162.037), (worst =   6.775)\n",
      "Episode =    2, score = 324.075 (best = 324.075), (worst =   6.775)\n",
      "Episode =    3, score = 492.831 (best = 492.831), (worst =   6.775)\n",
      "Episode =    4, score = 634.699 (best = 634.699), (worst =   6.775)\n",
      "Episode =    5, score = 863.835 (best = 863.835), (worst =   6.775)\n",
      "Episode =    6, score = 1032.578 (best = 1032.578), (worst =   6.775)\n",
      "Episode =    7, score = 1262.127 (best = 1262.127), (worst =   6.775)\n",
      "Episode =    8, score = 1491.914 (best = 1491.914), (worst =   6.775)\n",
      "Episode =    9, score = 1721.723 (best = 1721.723), (worst =   6.775)\n",
      "Episode =   10, score = 1951.451 (best = 1951.451), (worst =   6.775)\n",
      "Episode =   11, score = 2174.355 (best = 2174.355), (worst =   6.775)\n",
      "Episode =   12, score = 2390.388 (best = 2390.388), (worst =   6.775)\n",
      "Episode =   13, score = 2592.923 (best = 2592.923), (worst =   6.775)\n",
      "Episode =   14, score = 2795.386 (best = 2795.386), (worst =   6.775)\n",
      "Episode =   15, score = 2997.895 (best = 2997.895), (worst =   6.775)\n",
      "Episode =   16, score = 3200.421 (best = 3200.421), (worst =   6.775)\n",
      "Episode =   17, score = 3409.395 (best = 3409.395), (worst =   6.775)\n",
      "Episode =   18, score = 3631.903 (best = 3631.903), (worst =   6.775)\n",
      "Episode =   19, score = 3787.287 (best = 3787.287), (worst =   6.775)\n",
      "Episode =   20, score = 3928.968 (best = 3928.968), (worst =   6.775)\n",
      "Episode =   21, score = 4097.196 (best = 4097.196), (worst =   6.775)\n",
      "Episode =   22, score = 4279.251 (best = 4279.251), (worst =   6.775)\n",
      "Episode =   23, score = 4508.827 (best = 4508.827), (worst =   6.775)\n",
      "Episode =   24, score = 4697.705 (best = 4697.705), (worst =   6.775)\n",
      "Episode =   25, score = 4859.514 (best = 4859.514), (worst =   6.775)\n",
      "Episode =   26, score = 5068.267 (best = 5068.267), (worst =   6.775)\n",
      "Episode =   27, score = 5297.363 (best = 5297.363), (worst =   6.775)\n",
      "Episode =   28, score = 5525.200 (best = 5525.200), (worst =   6.775)\n",
      "Episode =   29, score = 5754.772 (best = 5754.772), (worst =   6.775)\n",
      "Episode =   30, score = 5950.544 (best = 5950.544), (worst =   6.775)\n",
      "Episode =   31, score = 6146.341 (best = 6146.341), (worst =   6.775)\n",
      "Episode =   32, score = 6342.137 (best = 6342.137), (worst =   6.775)\n",
      "Episode =   33, score = 6537.932 (best = 6537.932), (worst =   6.775)\n",
      "Episode =   34, score = 6733.717 (best = 6733.717), (worst =   6.775)\n",
      "Episode =   35, score = 6929.497 (best = 6929.497), (worst =   6.775)\n",
      "Episode =   36, score = 7125.299 (best = 7125.299), (worst =   6.775)\n",
      "Episode =   37, score = 7321.097 (best = 7321.097), (worst =   6.775)\n",
      "Episode =   38, score = 7516.881 (best = 7516.881), (worst =   6.775)\n",
      "Episode =   39, score = 7712.680 (best = 7712.680), (worst =   6.775)\n",
      "Episode =   40, score = 7908.448 (best = 7908.448), (worst =   6.775)\n",
      "Episode =   41, score = 8104.224 (best = 8104.224), (worst =   6.775)\n",
      "Episode =   42, score = 8300.003 (best = 8300.003), (worst =   6.775)\n",
      "Episode =   43, score = 8495.808 (best = 8495.808), (worst =   6.775)\n",
      "Episode =   44, score = 8691.600 (best = 8691.600), (worst =   6.775)\n",
      "Episode =   45, score = 8887.396 (best = 8887.396), (worst =   6.775)\n",
      "Episode =   46, score = 9083.197 (best = 9083.197), (worst =   6.775)\n",
      "Episode =   47, score = 9279.000 (best = 9279.000), (worst =   6.775)\n",
      "Episode =   48, score = 9474.788 (best = 9474.788), (worst =   6.775)\n",
      "Episode =   49, score = 9670.565 (best = 9670.565), (worst =   6.775)\n",
      "Episode =   50, score = 9866.358 (best = 9866.358), (worst =   6.775)\n",
      "Episode =   51, score = 10062.144 (best = 10062.144), (worst =   6.775)\n",
      "Episode =   52, score = 10257.943 (best = 10257.943), (worst =   6.775)\n",
      "Episode =   53, score = 10453.729 (best = 10453.729), (worst =   6.775)\n",
      "Episode =   54, score = 10649.519 (best = 10649.519), (worst =   6.775)\n",
      "Episode =   55, score = 10845.305 (best = 10845.305), (worst =   6.775)\n",
      "Episode =   56, score = 11041.091 (best = 11041.091), (worst =   6.775)\n",
      "Episode =   57, score = 11236.885 (best = 11236.885), (worst =   6.775)\n",
      "Episode =   58, score = 11432.660 (best = 11432.660), (worst =   6.775)\n",
      "Episode =   59, score = 11628.440 (best = 11628.440), (worst =   6.775)\n",
      "Episode =   60, score = 11824.238 (best = 11824.238), (worst =   6.775)\n",
      "Episode =   61, score = 12020.010 (best = 12020.010), (worst =   6.775)\n",
      "Episode =   62, score = 12215.797 (best = 12215.797), (worst =   6.775)\n",
      "Episode =   63, score = 12411.584 (best = 12411.584), (worst =   6.775)\n",
      "Episode =   64, score = 12607.366 (best = 12607.366), (worst =   6.775)\n",
      "Episode =   65, score = 12803.151 (best = 12803.151), (worst =   6.775)\n",
      "Episode =   66, score = 12998.941 (best = 12998.941), (worst =   6.775)\n",
      "Episode =   67, score = 13194.737 (best = 13194.737), (worst =   6.775)\n",
      "Episode =   68, score = 13390.523 (best = 13390.523), (worst =   6.775)\n",
      "Episode =   69, score = 13586.330 (best = 13586.330), (worst =   6.775)\n",
      "Episode =   70, score = 13782.127 (best = 13782.127), (worst =   6.775)\n",
      "Episode =   71, score = 13977.928 (best = 13977.928), (worst =   6.775)\n",
      "Episode =   72, score = 14173.715 (best = 14173.715), (worst =   6.775)\n",
      "Episode =   73, score = 14369.511 (best = 14369.511), (worst =   6.775)\n",
      "Episode =   74, score = 14565.305 (best = 14565.305), (worst =   6.775)\n",
      "Episode =   75, score = 14761.095 (best = 14761.095), (worst =   6.775)\n",
      "Episode =   76, score = 14956.891 (best = 14956.891), (worst =   6.775)\n",
      "Episode =   77, score = 15152.667 (best = 15152.667), (worst =   6.775)\n",
      "Episode =   78, score = 15348.470 (best = 15348.470), (worst =   6.775)\n",
      "Episode =   79, score = 15544.281 (best = 15544.281), (worst =   6.775)\n",
      "Episode =   80, score = 15740.063 (best = 15740.063), (worst =   6.775)\n",
      "Episode =   81, score = 15935.842 (best = 15935.842), (worst =   6.775)\n",
      "Episode =   82, score = 16131.645 (best = 16131.645), (worst =   6.775)\n",
      "Episode =   83, score = 16327.410 (best = 16327.410), (worst =   6.775)\n",
      "Episode =   84, score = 16523.192 (best = 16523.192), (worst =   6.775)\n",
      "Episode =   85, score = 16718.968 (best = 16718.968), (worst =   6.775)\n",
      "Episode =   86, score = 16914.764 (best = 16914.764), (worst =   6.775)\n",
      "Episode =   87, score = 17110.555 (best = 17110.555), (worst =   6.775)\n",
      "Episode =   88, score = 17306.345 (best = 17306.345), (worst =   6.775)\n",
      "Episode =   89, score = 17502.122 (best = 17502.122), (worst =   6.775)\n",
      "Episode =   90, score = 17697.917 (best = 17697.917), (worst =   6.775)\n",
      "Episode =   91, score = 17893.702 (best = 17893.702), (worst =   6.775)\n",
      "Episode =   92, score = 18089.489 (best = 18089.489), (worst =   6.775)\n",
      "Episode =   93, score = 18285.297 (best = 18285.297), (worst =   6.775)\n",
      "Episode =   94, score = 18481.082 (best = 18481.082), (worst =   6.775)\n",
      "Episode =   95, score = 18676.892 (best = 18676.892), (worst =   6.775)\n",
      "Episode =   96, score = 18872.674 (best = 18872.674), (worst =   6.775)\n",
      "Episode =   97, score = 19068.469 (best = 19068.469), (worst =   6.775)\n",
      "Episode =   98, score = 19264.259 (best = 19264.259), (worst =   6.775)\n",
      "Episode =   99, score = 19460.045 (best = 19460.045), (worst =   6.775)\n",
      "Episode =  100, score = 19655.837 (best = 19655.837), (worst =   6.775)\n",
      "Episode =  101, score = 19851.633 (best = 19851.633), (worst =   6.775)\n",
      "Episode =  102, score = 20047.427 (best = 20047.427), (worst =   6.775)\n",
      "Episode =  103, score = 20243.214 (best = 20243.214), (worst =   6.775)\n",
      "Episode =  104, score = 20438.982 (best = 20438.982), (worst =   6.775)\n",
      "Episode =  105, score = 20634.774 (best = 20634.774), (worst =   6.775)\n",
      "Episode =  106, score = 20830.567 (best = 20830.567), (worst =   6.775)\n",
      "Episode =  107, score = 21026.358 (best = 21026.358), (worst =   6.775)\n",
      "Episode =  108, score = 21222.141 (best = 21222.141), (worst =   6.775)\n",
      "Episode =  109, score = 21417.933 (best = 21417.933), (worst =   6.775)\n",
      "Episode =  110, score = 21613.718 (best = 21613.718), (worst =   6.775)\n",
      "Episode =  111, score = 21809.510 (best = 21809.510), (worst =   6.775)\n",
      "Episode =  112, score = 22005.298 (best = 22005.298), (worst =   6.775)\n",
      "Episode =  113, score = 22201.096 (best = 22201.096), (worst =   6.775)\n",
      "Episode =  114, score = 22396.870 (best = 22396.870), (worst =   6.775)\n",
      "Episode =  115, score = 22592.656 (best = 22592.656), (worst =   6.775)\n",
      "Episode =  116, score = 22788.450 (best = 22788.450), (worst =   6.775)\n",
      "Episode =  117, score = 22984.253 (best = 22984.253), (worst =   6.775)\n",
      "Episode =  118, score = 23180.035 (best = 23180.035), (worst =   6.775)\n",
      "Episode =  119, score = 23375.815 (best = 23375.815), (worst =   6.775)\n",
      "Episode =  120, score = 23571.605 (best = 23571.605), (worst =   6.775)\n",
      "Episode =  121, score = 23767.401 (best = 23767.401), (worst =   6.775)\n",
      "Episode =  122, score = 23963.199 (best = 23963.199), (worst =   6.775)\n",
      "Episode =  123, score = 24165.716 (best = 24165.716), (worst =   6.775)\n",
      "Episode =  124, score = 24361.499 (best = 24361.499), (worst =   6.775)\n",
      "Episode =  125, score = 24557.279 (best = 24557.279), (worst =   6.775)\n",
      "Episode =  126, score = 24753.084 (best = 24753.084), (worst =   6.775)\n",
      "Episode =  127, score = 24948.862 (best = 24948.862), (worst =   6.775)\n",
      "Episode =  128, score = 25144.645 (best = 25144.645), (worst =   6.775)\n",
      "Episode =  129, score = 25340.416 (best = 25340.416), (worst =   6.775)\n",
      "Episode =  130, score = 25536.204 (best = 25536.204), (worst =   6.775)\n",
      "Episode =  131, score = 25732.010 (best = 25732.010), (worst =   6.775)\n",
      "Episode =  132, score = 25927.792 (best = 25927.792), (worst =   6.775)\n",
      "Episode =  133, score = 26123.592 (best = 26123.592), (worst =   6.775)\n",
      "Episode =  134, score = 26319.386 (best = 26319.386), (worst =   6.775)\n",
      "Episode =  135, score = 26515.174 (best = 26515.174), (worst =   6.775)\n",
      "Episode =  136, score = 26710.971 (best = 26710.971), (worst =   6.775)\n",
      "Episode =  137, score = 26906.752 (best = 26906.752), (worst =   6.775)\n",
      "Episode =  138, score = 27102.548 (best = 27102.548), (worst =   6.775)\n",
      "Episode =  139, score = 27298.342 (best = 27298.342), (worst =   6.775)\n",
      "Episode =  140, score = 27494.129 (best = 27494.129), (worst =   6.775)\n",
      "Episode =  141, score = 27689.922 (best = 27689.922), (worst =   6.775)\n",
      "Episode =  142, score = 27885.724 (best = 27885.724), (worst =   6.775)\n",
      "Episode =  143, score = 28081.500 (best = 28081.500), (worst =   6.775)\n",
      "Episode =  144, score = 28277.303 (best = 28277.303), (worst =   6.775)\n",
      "Episode =  145, score = 28473.100 (best = 28473.100), (worst =   6.775)\n",
      "Episode =  146, score = 28668.894 (best = 28668.894), (worst =   6.775)\n",
      "Episode =  147, score = 28864.669 (best = 28864.669), (worst =   6.775)\n",
      "Episode =  148, score = 29060.477 (best = 29060.477), (worst =   6.775)\n",
      "Episode =  149, score = 29256.273 (best = 29256.273), (worst =   6.775)\n",
      "Episode =  150, score = 29452.074 (best = 29452.074), (worst =   6.775)\n",
      "Episode =  151, score = 29647.859 (best = 29647.859), (worst =   6.775)\n",
      "Episode =  152, score = 29843.650 (best = 29843.650), (worst =   6.775)\n",
      "Episode =  153, score = 30039.439 (best = 30039.439), (worst =   6.775)\n",
      "Episode =  154, score = 30235.237 (best = 30235.237), (worst =   6.775)\n",
      "Episode =  155, score = 30431.030 (best = 30431.030), (worst =   6.775)\n",
      "Episode =  156, score = 30626.825 (best = 30626.825), (worst =   6.775)\n",
      "Episode =  157, score = 30822.599 (best = 30822.599), (worst =   6.775)\n",
      "Episode =  158, score = 31018.369 (best = 31018.369), (worst =   6.775)\n",
      "Episode =  159, score = 31214.144 (best = 31214.144), (worst =   6.775)\n",
      "Episode =  160, score = 31409.945 (best = 31409.945), (worst =   6.775)\n",
      "Episode =  161, score = 31605.727 (best = 31605.727), (worst =   6.775)\n",
      "Episode =  162, score = 31801.521 (best = 31801.521), (worst =   6.775)\n",
      "Episode =  163, score = 31997.313 (best = 31997.313), (worst =   6.775)\n",
      "Episode =  164, score = 32193.102 (best = 32193.102), (worst =   6.775)\n",
      "Episode =  165, score = 32388.881 (best = 32388.881), (worst =   6.775)\n",
      "Episode =  166, score = 32584.674 (best = 32584.674), (worst =   6.775)\n",
      "Episode =  167, score = 32780.451 (best = 32780.451), (worst =   6.775)\n",
      "Episode =  168, score = 32976.228 (best = 32976.228), (worst =   6.775)\n",
      "Episode =  169, score = 33172.027 (best = 33172.027), (worst =   6.775)\n",
      "Episode =  170, score = 33367.829 (best = 33367.829), (worst =   6.775)\n",
      "Episode =  171, score = 33563.628 (best = 33563.628), (worst =   6.775)\n",
      "Episode =  172, score = 33759.411 (best = 33759.411), (worst =   6.775)\n",
      "Episode =  173, score = 33955.200 (best = 33955.200), (worst =   6.775)\n",
      "Episode =  174, score = 34150.963 (best = 34150.963), (worst =   6.775)\n",
      "Episode =  175, score = 34346.748 (best = 34346.748), (worst =   6.775)\n",
      "Episode =  176, score = 34542.533 (best = 34542.533), (worst =   6.775)\n",
      "Episode =  177, score = 34738.311 (best = 34738.311), (worst =   6.775)\n",
      "Episode =  178, score = 34934.090 (best = 34934.090), (worst =   6.775)\n",
      "Episode =  179, score = 35129.859 (best = 35129.859), (worst =   6.775)\n",
      "Episode =  180, score = 35325.663 (best = 35325.663), (worst =   6.775)\n",
      "Episode =  181, score = 35521.455 (best = 35521.455), (worst =   6.775)\n",
      "Episode =  182, score = 35717.226 (best = 35717.226), (worst =   6.775)\n",
      "Episode =  183, score = 35913.023 (best = 35913.023), (worst =   6.775)\n",
      "Episode =  184, score = 36108.829 (best = 36108.829), (worst =   6.775)\n",
      "Episode =  185, score = 36304.629 (best = 36304.629), (worst =   6.775)\n",
      "Episode =  186, score = 36500.412 (best = 36500.412), (worst =   6.775)\n",
      "Episode =  187, score = 36696.206 (best = 36696.206), (worst =   6.775)\n",
      "Episode =  188, score = 36892.017 (best = 36892.017), (worst =   6.775)\n",
      "Episode =  189, score = 37087.806 (best = 37087.806), (worst =   6.775)\n",
      "Episode =  190, score = 37283.596 (best = 37283.596), (worst =   6.775)\n",
      "Episode =  191, score = 37479.386 (best = 37479.386), (worst =   6.775)\n",
      "Episode =  192, score = 37675.155 (best = 37675.155), (worst =   6.775)\n",
      "Episode =  193, score = 37870.944 (best = 37870.944), (worst =   6.775)\n",
      "Episode =  194, score = 38066.724 (best = 38066.724), (worst =   6.775)\n",
      "Episode =  195, score = 38262.515 (best = 38262.515), (worst =   6.775)\n",
      "Episode =  196, score = 38458.311 (best = 38458.311), (worst =   6.775)\n",
      "Episode =  197, score = 38654.120 (best = 38654.120), (worst =   6.775)\n",
      "Episode =  198, score = 38849.912 (best = 38849.912), (worst =   6.775)\n",
      "Episode =  199, score = 39045.716 (best = 39045.716), (worst =   6.775)\n",
      "Episode =  200, score = 39241.513 (best = 39241.513), (worst =   6.775)\n",
      "Episode =  201, score = 39437.316 (best = 39437.316), (worst =   6.775)\n",
      "Episode =  202, score = 39633.114 (best = 39633.114), (worst =   6.775)\n",
      "Episode =  203, score = 39828.894 (best = 39828.894), (worst =   6.775)\n",
      "Episode =  204, score = 40024.671 (best = 40024.671), (worst =   6.775)\n",
      "Episode =  205, score = 40220.466 (best = 40220.466), (worst =   6.775)\n",
      "Episode =  206, score = 40416.252 (best = 40416.252), (worst =   6.775)\n",
      "Episode =  207, score = 40612.025 (best = 40612.025), (worst =   6.775)\n",
      "Episode =  208, score = 40807.815 (best = 40807.815), (worst =   6.775)\n",
      "Episode =  209, score = 41003.603 (best = 41003.603), (worst =   6.775)\n",
      "Episode =  210, score = 41199.409 (best = 41199.409), (worst =   6.775)\n",
      "Episode =  211, score = 41395.194 (best = 41395.194), (worst =   6.775)\n",
      "Episode =  212, score = 41590.982 (best = 41590.982), (worst =   6.775)\n",
      "Episode =  213, score = 41786.755 (best = 41786.755), (worst =   6.775)\n",
      "Episode =  214, score = 41982.532 (best = 41982.532), (worst =   6.775)\n",
      "Episode =  215, score = 42185.054 (best = 42185.054), (worst =   6.775)\n",
      "Episode =  216, score = 42380.835 (best = 42380.835), (worst =   6.775)\n",
      "Episode =  217, score = 42576.619 (best = 42576.619), (worst =   6.775)\n",
      "Episode =  218, score = 42772.399 (best = 42772.399), (worst =   6.775)\n",
      "Episode =  219, score = 42968.191 (best = 42968.191), (worst =   6.775)\n",
      "Episode =  220, score = 43170.708 (best = 43170.708), (worst =   6.775)\n",
      "Episode =  221, score = 43366.513 (best = 43366.513), (worst =   6.775)\n",
      "Episode =  222, score = 43562.314 (best = 43562.314), (worst =   6.775)\n",
      "Episode =  223, score = 43758.106 (best = 43758.106), (worst =   6.775)\n",
      "Episode =  224, score = 43953.903 (best = 43953.903), (worst =   6.775)\n",
      "Episode =  225, score = 44149.691 (best = 44149.691), (worst =   6.775)\n",
      "Episode =  226, score = 44345.484 (best = 44345.484), (worst =   6.775)\n",
      "Episode =  227, score = 44541.283 (best = 44541.283), (worst =   6.775)\n",
      "Episode =  228, score = 44737.076 (best = 44737.076), (worst =   6.775)\n",
      "Episode =  229, score = 44932.868 (best = 44932.868), (worst =   6.775)\n",
      "Episode =  230, score = 45128.653 (best = 45128.653), (worst =   6.775)\n",
      "Episode =  231, score = 45324.431 (best = 45324.431), (worst =   6.775)\n",
      "Episode =  232, score = 45520.206 (best = 45520.206), (worst =   6.775)\n",
      "Episode =  233, score = 45716.012 (best = 45716.012), (worst =   6.775)\n",
      "Episode =  234, score = 45911.799 (best = 45911.799), (worst =   6.775)\n",
      "Episode =  235, score = 46107.578 (best = 46107.578), (worst =   6.775)\n",
      "Episode =  236, score = 46303.376 (best = 46303.376), (worst =   6.775)\n",
      "Episode =  237, score = 46499.157 (best = 46499.157), (worst =   6.775)\n",
      "Episode =  238, score = 46694.954 (best = 46694.954), (worst =   6.775)\n",
      "Episode =  239, score = 46890.755 (best = 46890.755), (worst =   6.775)\n",
      "Episode =  240, score = 47086.548 (best = 47086.548), (worst =   6.775)\n",
      "Episode =  241, score = 47282.327 (best = 47282.327), (worst =   6.775)\n",
      "Episode =  242, score = 47478.127 (best = 47478.127), (worst =   6.775)\n",
      "Episode =  243, score = 47673.898 (best = 47673.898), (worst =   6.775)\n",
      "Episode =  244, score = 47869.679 (best = 47869.679), (worst =   6.775)\n",
      "Episode =  245, score = 48065.474 (best = 48065.474), (worst =   6.775)\n",
      "Episode =  246, score = 48261.270 (best = 48261.270), (worst =   6.775)\n",
      "Episode =  247, score = 48457.055 (best = 48457.055), (worst =   6.775)\n",
      "Episode =  248, score = 48652.856 (best = 48652.856), (worst =   6.775)\n",
      "Episode =  249, score = 48848.641 (best = 48848.641), (worst =   6.775)\n",
      "Episode =  250, score = 49044.427 (best = 49044.427), (worst =   6.775)\n",
      "Episode =  251, score = 49240.227 (best = 49240.227), (worst =   6.775)\n",
      "Episode =  252, score = 49436.011 (best = 49436.011), (worst =   6.775)\n",
      "Episode =  253, score = 49631.789 (best = 49631.789), (worst =   6.775)\n",
      "Episode =  254, score = 49827.572 (best = 49827.572), (worst =   6.775)\n",
      "Episode =  255, score = 50023.362 (best = 50023.362), (worst =   6.775)\n",
      "Episode =  256, score = 50219.150 (best = 50219.150), (worst =   6.775)\n",
      "Episode =  257, score = 50414.934 (best = 50414.934), (worst =   6.775)\n",
      "Episode =  258, score = 50610.709 (best = 50610.709), (worst =   6.775)\n",
      "Episode =  259, score = 50806.494 (best = 50806.494), (worst =   6.775)\n",
      "Episode =  260, score = 51002.280 (best = 51002.280), (worst =   6.775)\n",
      "Episode =  261, score = 51198.069 (best = 51198.069), (worst =   6.775)\n",
      "Episode =  262, score = 51393.872 (best = 51393.872), (worst =   6.775)\n",
      "Episode =  263, score = 51589.651 (best = 51589.651), (worst =   6.775)\n",
      "Episode =  264, score = 51785.444 (best = 51785.444), (worst =   6.775)\n",
      "Episode =  265, score = 51981.238 (best = 51981.238), (worst =   6.775)\n",
      "Episode =  266, score = 52177.029 (best = 52177.029), (worst =   6.775)\n",
      "Episode =  267, score = 52372.822 (best = 52372.822), (worst =   6.775)\n",
      "Episode =  268, score = 52568.616 (best = 52568.616), (worst =   6.775)\n",
      "Episode =  269, score = 52764.399 (best = 52764.399), (worst =   6.775)\n",
      "Episode =  270, score = 52960.187 (best = 52960.187), (worst =   6.775)\n",
      "Episode =  271, score = 53155.989 (best = 53155.989), (worst =   6.775)\n",
      "Episode =  272, score = 53351.787 (best = 53351.787), (worst =   6.775)\n",
      "Episode =  273, score = 53547.555 (best = 53547.555), (worst =   6.775)\n",
      "Episode =  274, score = 53743.349 (best = 53743.349), (worst =   6.775)\n",
      "Episode =  275, score = 53939.134 (best = 53939.134), (worst =   6.775)\n",
      "Episode =  276, score = 54134.930 (best = 54134.930), (worst =   6.775)\n",
      "Episode =  277, score = 54330.693 (best = 54330.693), (worst =   6.775)\n",
      "Episode =  278, score = 54526.472 (best = 54526.472), (worst =   6.775)\n",
      "Episode =  279, score = 54722.264 (best = 54722.264), (worst =   6.775)\n",
      "Episode =  280, score = 54918.040 (best = 54918.040), (worst =   6.775)\n",
      "Episode =  281, score = 55113.819 (best = 55113.819), (worst =   6.775)\n",
      "Episode =  282, score = 55309.624 (best = 55309.624), (worst =   6.775)\n",
      "Episode =  283, score = 55505.410 (best = 55505.410), (worst =   6.775)\n",
      "Episode =  284, score = 55701.200 (best = 55701.200), (worst =   6.775)\n",
      "Episode =  285, score = 55896.977 (best = 55896.977), (worst =   6.775)\n",
      "Episode =  286, score = 56092.769 (best = 56092.769), (worst =   6.775)\n",
      "Episode =  287, score = 56288.575 (best = 56288.575), (worst =   6.775)\n",
      "Episode =  288, score = 56484.371 (best = 56484.371), (worst =   6.775)\n",
      "Episode =  289, score = 56680.155 (best = 56680.155), (worst =   6.775)\n",
      "Episode =  290, score = 56875.942 (best = 56875.942), (worst =   6.775)\n",
      "Episode =  291, score = 57071.716 (best = 57071.716), (worst =   6.775)\n",
      "Episode =  292, score = 57267.504 (best = 57267.504), (worst =   6.775)\n",
      "Episode =  293, score = 57463.272 (best = 57463.272), (worst =   6.775)\n",
      "Episode =  294, score = 57659.057 (best = 57659.057), (worst =   6.775)\n",
      "Episode =  295, score = 57854.846 (best = 57854.846), (worst =   6.775)\n",
      "Episode =  296, score = 58050.633 (best = 58050.633), (worst =   6.775)\n",
      "Episode =  297, score = 58246.403 (best = 58246.403), (worst =   6.775)\n",
      "Episode =  298, score = 58442.182 (best = 58442.182), (worst =   6.775)\n",
      "Episode =  299, score = 58637.956 (best = 58637.956), (worst =   6.775)\n",
      "Episode =  300, score = 58833.733 (best = 58833.733), (worst =   6.775)\n",
      "Episode =  301, score = 59029.512 (best = 59029.512), (worst =   6.775)\n",
      "Episode =  302, score = 59225.289 (best = 59225.289), (worst =   6.775)\n",
      "Episode =  303, score = 59421.082 (best = 59421.082), (worst =   6.775)\n",
      "Episode =  304, score = 59616.879 (best = 59616.879), (worst =   6.775)\n",
      "Episode =  305, score = 59812.652 (best = 59812.652), (worst =   6.775)\n",
      "Episode =  306, score = 60008.438 (best = 60008.438), (worst =   6.775)\n",
      "Episode =  307, score = 60204.230 (best = 60204.230), (worst =   6.775)\n",
      "Episode =  308, score = 60400.012 (best = 60400.012), (worst =   6.775)\n",
      "Episode =  309, score = 60595.806 (best = 60595.806), (worst =   6.775)\n",
      "Episode =  310, score = 60791.605 (best = 60791.605), (worst =   6.775)\n",
      "Episode =  311, score = 60987.398 (best = 60987.398), (worst =   6.775)\n",
      "Episode =  312, score = 61183.184 (best = 61183.184), (worst =   6.775)\n",
      "Episode =  313, score = 61378.980 (best = 61378.980), (worst =   6.775)\n",
      "Episode =  314, score = 61574.759 (best = 61574.759), (worst =   6.775)\n",
      "Episode =  315, score = 61770.559 (best = 61770.559), (worst =   6.775)\n",
      "Episode =  316, score = 61966.341 (best = 61966.341), (worst =   6.775)\n",
      "Episode =  317, score = 62162.129 (best = 62162.129), (worst =   6.775)\n",
      "Episode =  318, score = 62357.915 (best = 62357.915), (worst =   6.775)\n",
      "Episode =  319, score = 62553.693 (best = 62553.693), (worst =   6.775)\n",
      "Episode =  320, score = 62749.484 (best = 62749.484), (worst =   6.775)\n",
      "Episode =  321, score = 62945.261 (best = 62945.261), (worst =   6.775)\n",
      "Episode =  322, score = 63141.054 (best = 63141.054), (worst =   6.775)\n",
      "Episode =  323, score = 63336.852 (best = 63336.852), (worst =   6.775)\n",
      "Episode =  324, score = 63532.641 (best = 63532.641), (worst =   6.775)\n",
      "Episode =  325, score = 63728.432 (best = 63728.432), (worst =   6.775)\n",
      "Episode =  326, score = 63924.220 (best = 63924.220), (worst =   6.775)\n",
      "Episode =  327, score = 64120.020 (best = 64120.020), (worst =   6.775)\n",
      "Episode =  328, score = 64315.826 (best = 64315.826), (worst =   6.775)\n",
      "Episode =  329, score = 64511.619 (best = 64511.619), (worst =   6.775)\n",
      "Episode =  330, score = 64707.416 (best = 64707.416), (worst =   6.775)\n",
      "Episode =  331, score = 64903.213 (best = 64903.213), (worst =   6.775)\n",
      "Episode =  332, score = 65099.002 (best = 65099.002), (worst =   6.775)\n",
      "Episode =  333, score = 65294.788 (best = 65294.788), (worst =   6.775)\n",
      "Episode =  334, score = 65490.564 (best = 65490.564), (worst =   6.775)\n",
      "Episode =  335, score = 65686.362 (best = 65686.362), (worst =   6.775)\n",
      "Episode =  336, score = 65882.150 (best = 65882.150), (worst =   6.775)\n",
      "Episode =  337, score = 66077.928 (best = 66077.928), (worst =   6.775)\n",
      "Episode =  338, score = 66273.730 (best = 66273.730), (worst =   6.775)\n",
      "Episode =  339, score = 66469.513 (best = 66469.513), (worst =   6.775)\n",
      "Episode =  340, score = 66665.293 (best = 66665.293), (worst =   6.775)\n",
      "Episode =  341, score = 66861.089 (best = 66861.089), (worst =   6.775)\n",
      "Episode =  342, score = 67056.888 (best = 67056.888), (worst =   6.775)\n",
      "Episode =  343, score = 67252.682 (best = 67252.682), (worst =   6.775)\n",
      "Episode =  344, score = 67448.478 (best = 67448.478), (worst =   6.775)\n",
      "Episode =  345, score = 67644.271 (best = 67644.271), (worst =   6.775)\n",
      "Episode =  346, score = 67840.051 (best = 67840.051), (worst =   6.775)\n",
      "Episode =  347, score = 68035.834 (best = 68035.834), (worst =   6.775)\n",
      "Episode =  348, score = 68231.611 (best = 68231.611), (worst =   6.775)\n",
      "Episode =  349, score = 68427.378 (best = 68427.378), (worst =   6.775)\n",
      "Episode =  350, score = 68623.158 (best = 68623.158), (worst =   6.775)\n",
      "Episode =  351, score = 68818.952 (best = 68818.952), (worst =   6.775)\n",
      "Episode =  352, score = 69014.749 (best = 69014.749), (worst =   6.775)\n",
      "Episode =  353, score = 69210.558 (best = 69210.558), (worst =   6.775)\n",
      "Episode =  354, score = 69406.354 (best = 69406.354), (worst =   6.775)\n",
      "Episode =  355, score = 69602.144 (best = 69602.144), (worst =   6.775)\n",
      "Episode =  356, score = 69797.945 (best = 69797.945), (worst =   6.775)\n",
      "Episode =  357, score = 69993.708 (best = 69993.708), (worst =   6.775)\n",
      "Episode =  358, score = 70189.502 (best = 70189.502), (worst =   6.775)\n",
      "Episode =  359, score = 70385.307 (best = 70385.307), (worst =   6.775)\n",
      "Episode =  360, score = 70581.105 (best = 70581.105), (worst =   6.775)\n",
      "Episode =  361, score = 70776.907 (best = 70776.907), (worst =   6.775)\n",
      "Episode =  362, score = 70972.705 (best = 70972.705), (worst =   6.775)\n",
      "Episode =  363, score = 71168.491 (best = 71168.491), (worst =   6.775)\n",
      "Episode =  364, score = 71364.281 (best = 71364.281), (worst =   6.775)\n",
      "Episode =  365, score = 71560.075 (best = 71560.075), (worst =   6.775)\n",
      "Episode =  366, score = 71755.857 (best = 71755.857), (worst =   6.775)\n",
      "Episode =  367, score = 71951.639 (best = 71951.639), (worst =   6.775)\n",
      "Episode =  368, score = 72147.433 (best = 72147.433), (worst =   6.775)\n",
      "Episode =  369, score = 72343.215 (best = 72343.215), (worst =   6.775)\n",
      "Episode =  370, score = 72538.998 (best = 72538.998), (worst =   6.775)\n",
      "Episode =  371, score = 72734.779 (best = 72734.779), (worst =   6.775)\n",
      "Episode =  372, score = 72930.563 (best = 72930.563), (worst =   6.775)\n",
      "Episode =  373, score = 73126.354 (best = 73126.354), (worst =   6.775)\n",
      "Episode =  374, score = 73322.143 (best = 73322.143), (worst =   6.775)\n",
      "Episode =  375, score = 73517.930 (best = 73517.930), (worst =   6.775)\n",
      "Episode =  376, score = 73713.704 (best = 73713.704), (worst =   6.775)\n",
      "Episode =  377, score = 73909.499 (best = 73909.499), (worst =   6.775)\n",
      "Episode =  378, score = 74105.299 (best = 74105.299), (worst =   6.775)\n",
      "Episode =  379, score = 74301.102 (best = 74301.102), (worst =   6.775)\n",
      "Episode =  380, score = 74496.902 (best = 74496.902), (worst =   6.775)\n",
      "Episode =  381, score = 74692.694 (best = 74692.694), (worst =   6.775)\n",
      "Episode =  382, score = 74888.481 (best = 74888.481), (worst =   6.775)\n",
      "Episode =  383, score = 75084.251 (best = 75084.251), (worst =   6.775)\n",
      "Episode =  384, score = 75280.045 (best = 75280.045), (worst =   6.775)\n",
      "Episode =  385, score = 75475.833 (best = 75475.833), (worst =   6.775)\n",
      "Episode =  386, score = 75671.624 (best = 75671.624), (worst =   6.775)\n",
      "Episode =  387, score = 75867.403 (best = 75867.403), (worst =   6.775)\n",
      "Episode =  388, score = 76063.195 (best = 76063.195), (worst =   6.775)\n",
      "Episode =  389, score = 76258.992 (best = 76258.992), (worst =   6.775)\n",
      "Episode =  390, score = 76454.770 (best = 76454.770), (worst =   6.775)\n",
      "Episode =  391, score = 76650.552 (best = 76650.552), (worst =   6.775)\n",
      "Episode =  392, score = 76846.357 (best = 76846.357), (worst =   6.775)\n",
      "Episode =  393, score = 77042.136 (best = 77042.136), (worst =   6.775)\n",
      "Episode =  394, score = 77237.945 (best = 77237.945), (worst =   6.775)\n",
      "Episode =  395, score = 77433.730 (best = 77433.730), (worst =   6.775)\n",
      "Episode =  396, score = 77629.521 (best = 77629.521), (worst =   6.775)\n",
      "Episode =  397, score = 77825.312 (best = 77825.312), (worst =   6.775)\n",
      "Episode =  398, score = 78021.105 (best = 78021.105), (worst =   6.775)\n",
      "Episode =  399, score = 78216.885 (best = 78216.885), (worst =   6.775)\n",
      "Episode =  400, score = 78412.664 (best = 78412.664), (worst =   6.775)\n",
      "Episode =  401, score = 78608.466 (best = 78608.466), (worst =   6.775)\n",
      "Episode =  402, score = 78804.271 (best = 78804.271), (worst =   6.775)\n",
      "Episode =  403, score = 79000.074 (best = 79000.074), (worst =   6.775)\n",
      "Episode =  404, score = 79195.856 (best = 79195.856), (worst =   6.775)\n",
      "Episode =  405, score = 79391.639 (best = 79391.639), (worst =   6.775)\n",
      "Episode =  406, score = 79587.451 (best = 79587.451), (worst =   6.775)\n",
      "Episode =  407, score = 79783.242 (best = 79783.242), (worst =   6.775)\n",
      "Episode =  408, score = 79979.013 (best = 79979.013), (worst =   6.775)\n",
      "Episode =  409, score = 80174.808 (best = 80174.808), (worst =   6.775)\n",
      "Episode =  410, score = 80370.606 (best = 80370.606), (worst =   6.775)\n",
      "Episode =  411, score = 80566.406 (best = 80566.406), (worst =   6.775)\n",
      "Episode =  412, score = 80762.188 (best = 80762.188), (worst =   6.775)\n",
      "Episode =  413, score = 80957.982 (best = 80957.982), (worst =   6.775)\n",
      "Episode =  414, score = 81153.778 (best = 81153.778), (worst =   6.775)\n",
      "Episode =  415, score = 81349.574 (best = 81349.574), (worst =   6.775)\n",
      "Episode =  416, score = 81545.353 (best = 81545.353), (worst =   6.775)\n",
      "Episode =  417, score = 81741.130 (best = 81741.130), (worst =   6.775)\n",
      "Episode =  418, score = 81936.913 (best = 81936.913), (worst =   6.775)\n",
      "Episode =  419, score = 82132.707 (best = 82132.707), (worst =   6.775)\n",
      "Episode =  420, score = 82328.491 (best = 82328.491), (worst =   6.775)\n",
      "Episode =  421, score = 82524.292 (best = 82524.292), (worst =   6.775)\n",
      "Episode =  422, score = 82720.083 (best = 82720.083), (worst =   6.775)\n",
      "Episode =  423, score = 82915.886 (best = 82915.886), (worst =   6.775)\n",
      "Episode =  424, score = 83111.670 (best = 83111.670), (worst =   6.775)\n",
      "Episode =  425, score = 83307.444 (best = 83307.444), (worst =   6.775)\n",
      "Episode =  426, score = 83503.233 (best = 83503.233), (worst =   6.775)\n",
      "Episode =  427, score = 83699.020 (best = 83699.020), (worst =   6.775)\n",
      "Episode =  428, score = 83894.800 (best = 83894.800), (worst =   6.775)\n",
      "Episode =  429, score = 84090.593 (best = 84090.593), (worst =   6.775)\n",
      "Episode =  430, score = 84286.381 (best = 84286.381), (worst =   6.775)\n",
      "Episode =  431, score = 84488.915 (best = 84488.915), (worst =   6.775)\n",
      "Episode =  432, score = 84684.699 (best = 84684.699), (worst =   6.775)\n",
      "Episode =  433, score = 84880.490 (best = 84880.490), (worst =   6.775)\n",
      "Episode =  434, score = 85076.276 (best = 85076.276), (worst =   6.775)\n",
      "Episode =  435, score = 85272.078 (best = 85272.078), (worst =   6.775)\n",
      "Episode =  436, score = 85467.870 (best = 85467.870), (worst =   6.775)\n",
      "Episode =  437, score = 85670.399 (best = 85670.399), (worst =   6.775)\n",
      "Episode =  438, score = 85866.197 (best = 85866.197), (worst =   6.775)\n",
      "Episode =  439, score = 86089.061 (best = 86089.061), (worst =   6.775)\n",
      "Episode =  440, score = 86284.843 (best = 86284.843), (worst =   6.775)\n",
      "Episode =  441, score = 86480.627 (best = 86480.627), (worst =   6.775)\n",
      "Episode =  442, score = 86676.427 (best = 86676.427), (worst =   6.775)\n",
      "Episode =  443, score = 86872.228 (best = 86872.228), (worst =   6.775)\n",
      "Episode =  444, score = 87068.029 (best = 87068.029), (worst =   6.775)\n",
      "Episode =  445, score = 87263.813 (best = 87263.813), (worst =   6.775)\n",
      "Episode =  446, score = 87459.880 (best = 87459.880), (worst =   6.775)\n",
      "Episode =  447, score = 87635.634 (best = 87635.634), (worst =   6.775)\n",
      "Episode =  448, score = 87811.387 (best = 87811.387), (worst =   6.775)\n",
      "Episode =  449, score = 87987.140 (best = 87987.140), (worst =   6.775)\n",
      "Episode =  450, score = 88162.895 (best = 88162.895), (worst =   6.775)\n",
      "Episode =  451, score = 88338.648 (best = 88338.648), (worst =   6.775)\n",
      "Episode =  452, score = 88514.402 (best = 88514.402), (worst =   6.775)\n",
      "Episode =  453, score = 88690.156 (best = 88690.156), (worst =   6.775)\n",
      "Episode =  454, score = 88865.910 (best = 88865.910), (worst =   6.775)\n",
      "Episode =  455, score = 89041.663 (best = 89041.663), (worst =   6.775)\n",
      "Episode =  456, score = 89217.416 (best = 89217.416), (worst =   6.775)\n",
      "Episode =  457, score = 89393.169 (best = 89393.169), (worst =   6.775)\n",
      "Episode =  458, score = 89568.923 (best = 89568.923), (worst =   6.775)\n",
      "Episode =  459, score = 89744.676 (best = 89744.676), (worst =   6.775)\n",
      "Episode =  460, score = 89920.428 (best = 89920.428), (worst =   6.775)\n",
      "Episode =  461, score = 90096.180 (best = 90096.180), (worst =   6.775)\n",
      "Episode =  462, score = 90271.933 (best = 90271.933), (worst =   6.775)\n",
      "Episode =  463, score = 90447.687 (best = 90447.687), (worst =   6.775)\n",
      "Episode =  464, score = 90623.440 (best = 90623.440), (worst =   6.775)\n",
      "Episode =  465, score = 90799.194 (best = 90799.194), (worst =   6.775)\n",
      "Episode =  466, score = 90974.948 (best = 90974.948), (worst =   6.775)\n",
      "Episode =  467, score = 91150.700 (best = 91150.700), (worst =   6.775)\n",
      "Episode =  468, score = 91326.453 (best = 91326.453), (worst =   6.775)\n",
      "Episode =  469, score = 91502.206 (best = 91502.206), (worst =   6.775)\n",
      "Episode =  470, score = 91677.961 (best = 91677.961), (worst =   6.775)\n",
      "Episode =  471, score = 91853.716 (best = 91853.716), (worst =   6.775)\n",
      "Episode =  472, score = 92029.469 (best = 92029.469), (worst =   6.775)\n",
      "Episode =  473, score = 92205.222 (best = 92205.222), (worst =   6.775)\n",
      "Episode =  474, score = 92380.975 (best = 92380.975), (worst =   6.775)\n",
      "Episode =  475, score = 92556.728 (best = 92556.728), (worst =   6.775)\n",
      "Episode =  476, score = 92732.482 (best = 92732.482), (worst =   6.775)\n",
      "Episode =  477, score = 92908.235 (best = 92908.235), (worst =   6.775)\n",
      "Episode =  478, score = 93083.987 (best = 93083.987), (worst =   6.775)\n",
      "Episode =  479, score = 93259.741 (best = 93259.741), (worst =   6.775)\n",
      "Episode =  480, score = 93435.494 (best = 93435.494), (worst =   6.775)\n",
      "Episode =  481, score = 93611.247 (best = 93611.247), (worst =   6.775)\n",
      "Episode =  482, score = 93787.000 (best = 93787.000), (worst =   6.775)\n",
      "Episode =  483, score = 93962.753 (best = 93962.753), (worst =   6.775)\n",
      "Episode =  484, score = 94138.506 (best = 94138.506), (worst =   6.775)\n",
      "Episode =  485, score = 94314.259 (best = 94314.259), (worst =   6.775)\n",
      "Episode =  486, score = 94490.012 (best = 94490.012), (worst =   6.775)\n",
      "Episode =  487, score = 94659.030 (best = 94659.030), (worst =   6.775)\n",
      "Episode =  488, score = 94834.740 (best = 94834.740), (worst =   6.775)\n",
      "Episode =  489, score = 95010.459 (best = 95010.459), (worst =   6.775)\n",
      "Episode =  490, score = 95186.162 (best = 95186.162), (worst =   6.775)\n",
      "Episode =  491, score = 95361.891 (best = 95361.891), (worst =   6.775)\n",
      "Episode =  492, score = 95530.857 (best = 95530.857), (worst =   6.775)\n",
      "Episode =  493, score = 95706.609 (best = 95706.609), (worst =   6.775)\n",
      "Episode =  494, score = 95875.588 (best = 95875.588), (worst =   6.775)\n",
      "Episode =  495, score = 96051.290 (best = 96051.290), (worst =   6.775)\n",
      "Episode =  496, score = 96227.014 (best = 96227.014), (worst =   6.775)\n",
      "Episode =  497, score = 96389.218 (best = 96389.218), (worst =   6.775)\n",
      "Episode =  498, score = 96564.776 (best = 96564.776), (worst =   6.775)\n",
      "Episode =  499, score = 96747.284 (best = 96747.284), (worst =   6.775)\n",
      "Episode =  500, score = 96929.400 (best = 96929.400), (worst =   6.775)\n"
     ]
    }
   ],
   "source": [
    "import sys\n",
    "import pandas as pd\n",
    "import numpy as np\n",
    "from task import Task\n",
    "#from agents.policy_search import PolicySearch_Agent\n",
    "from agents.agent import DDPG\n",
    "import csv\n",
    "\n",
    "num_episodes = 500\n",
    "target_pos = np.array([0., 0., 30.])\n",
    "task = Task(target_pos=target_pos)\n",
    "#task.get_reward()\n",
    "agent = DDPG(task)\n",
    "logFile = \"report.log\"\n",
    "best_score=0;\n",
    "worst_score=9999;\n",
    "labels = ['episode', 'score']\n",
    "results = {x : [] for x in labels}\n",
    "Gt=0\n",
    "for i_episode in range(1, num_episodes+1):\n",
    "    state = agent.reset_episode() # start a new episode\n",
    "    #print(\"state={}\" .format(state))\n",
    "    while True:\n",
    "        action = agent.act(state) \n",
    "        #print(\"action={}\" .format(action))\n",
    "        next_state, reward, done = task.step(action)\n",
    "        agent.step(action, reward, next_state, done)\n",
    "        state = next_state\n",
    "        Gt += reward\n",
    "        best_score = max(best_score , Gt)\n",
    "        worst_score = min(worst_score , Gt)\n",
    "        if done:\n",
    "            print(\"\\rEpisode = {:4d}, score = {:7.3f} (best = {:7.3f}), (worst = {:7.3f})\".format(\n",
    "                i_episode, Gt, best_score,worst_score , end=\"\"))  # [debug]\n",
    "            break\n",
    "    results['episode'].append(i_episode)\n",
    "    results['score'].append(Gt)\n",
    "    sys.stdout.flush()"
   ]
  },
  {
   "cell_type": "markdown",
   "metadata": {
    "collapsed": true,
    "deletable": true,
    "editable": true
   },
   "source": [
    "## Plot the Rewards\n",
    "\n",
    "Once you are satisfied with your performance, plot the episode rewards, either from a single run, or averaged over multiple runs. "
   ]
  },
  {
   "cell_type": "code",
   "execution_count": 11,
   "metadata": {
    "collapsed": false,
    "deletable": true,
    "editable": true,
    "scrolled": true
   },
   "outputs": [
    {
     "data": {
      "image/png": "[encoded data removed]",
      "text/plain": [
       "<Figure size 432x288 with 1 Axes>"
      ]
     },
     "metadata": {},
     "output_type": "display_data"
    }
   ],
   "source": [
    "## TODO: Plot the rewards.\n",
    "import matplotlib.pyplot as plt\n",
    "%matplotlib inline\n",
    "\n",
    "plt.plot(results['episode'], results['score'], label='episode/score')\n",
    "plt.legend()\n",
    "_ = plt.ylim()"
   ]
  },
  {
   "cell_type": "markdown",
   "metadata": {
    "collapsed": true,
    "deletable": true,
    "editable": true
   },
   "source": [
    "## Reflections\n",
    "\n",
    "**Question 1**: Describe the task that you specified in `task.py`.  How did you design the reward function?\n",
    "\n",
    "**Answer**:Initially my goal was, for the quadcopter to take off from the initial point(height of 10) to another target height, as defined in the input. The closer it got towards the destination less -ve the rewards were(-min(target.ht-sim.pos.ht)) and when it reached the goal or 10 points above, the agent would get a +10 reward points. But the rotor speeds were such that the it was not getting a value more the the initial ht of 10 and the rewards decreased significantly. I then changed the reward to be tanh(Ref:  https://arxiv.org/abs/1711.09602) of the original reward,which kept the rewards in the range of -1 to +1, which  worked really well. As from the results above for a DDPG Agent, the 500th episode had a whopping total reward of 96929.400"
   ]
  },
  {
   "cell_type": "markdown",
   "metadata": {
    "deletable": true,
    "editable": true
   },
   "source": [
    "**Question 2**: Discuss your agent briefly, using the following questions as a guide:\n",
    "\n",
    "- What learning algorithm(s) did you try? What worked best for you?\n",
    "- What was your final choice of hyperparameters (such as $\\alpha$, $\\gamma$, $\\epsilon$, etc.)?\n",
    "- What neural network architecture did you use (if any)? Specify layers, sizes, activation functions, etc.\n",
    "\n",
    "**Answer**:The Basic Agent, returned actions(rotor speeds) based on random values and if we look at the graph, the height starts at 10 and then degrades down. The policySearch_agent seems to learn when its done with the episode. But the learning depended on the feature weights, which was computed based on state size and action size. Due to that we observe that, for 100 episode a total reward of 6.4. So I used the DDPG agent which was based on the policy-value model, actor/critic method. I did not change the layers in the actor or critic, as I saw very good results without changing. The actor(policy model) seem to have 3 hidden layers with the \"Relu\" activation function and a final layer with the sigmoid function.The critic (value model)seems to have 2 dense layer with relu activation for state and action. The action and state layers are then merged with another activation layer of relu.Did not change the values of the hyper parameters from what was given the DGPP agent , as it seemed to have worked very well without tweaking.\n",
    "The DGPP learn function, seems to save the state,action,rewards, done and next_state values in memory(as experience replay tuples), so that the policy for the actor and the value for the critic are updated from it."
   ]
  },
  {
   "cell_type": "markdown",
   "metadata": {
    "deletable": true,
    "editable": true
   },
   "source": [
    "**Question 3**: Using the episode rewards plot, discuss how the agent learned over time.\n",
    "\n",
    "- Was it an easy task to learn or hard?\n",
    "- Was there a gradual learning curve, or an aha moment?\n",
    "- How good was the final performance of the agent? (e.g. mean rewards over the last 10 episodes)\n",
    "\n",
    "**Answer**: The episode rewards plot on using the DGPP agent, seems to be exponential, meaning the agent seems to learn positively(learn better) over a period of time.The actor/critic method with experience replay seems to have made it fairly easier for the agent to learn as opposed to our earlier agents(Basic Agent and policy_search agent) from the rewards plot earlier.I thought it had a phenomal performance , as the final reward was very high. So if we had more computational resource and able to run more episodes the agent would be very good at it. \n",
    "As the performance was exponential, the last 10 episodes, each one was better than the previous in learning.\n"
   ]
  },
  {
   "cell_type": "markdown",
   "metadata": {
    "deletable": true,
    "editable": true
   },
   "source": [
    "**Question 4**: Briefly summarize your experience working on this project. You can use the following prompts for ideas.\n",
    "\n",
    "- What was the hardest part of the project? (e.g. getting started, plotting, specifying the task, etc.)\n",
    "- Did you find anything interesting in how the quadcopter or your agent behaved?\n",
    "\n",
    "**Answer**:Initially, just by reading the project description, I was initimidated, not understanding rotor speeds, velocities and phi,si etc. But then project slowly eased me into learning what needs to be done. Then chosing the reward function was another area of difficulty I faced. Whatever I seem to do, the rewards were getting more and more in the -ve direction, until I read about tanh, which is a better sigmoid, enclosing the range from [-1 ,+1].\n",
    "The next part was , since the project description did not say about the DDGP/actor/critic code that would be following, had no idea what to do. But got to know from knowledge base, that we are to use it. Fortunately for me the layers, activation function and the given hpyerparams worked well.\n",
    "The other abnormality that I experienced was, I went back to running the ipynb on the kernel(tensor flow) and my matplotlib stopped working. I spent a lot of time trying to uninstall/reinstall update the matplotlib.pyplot. I then realized that my data.txt file was off and by deleting it and running the the cells again helped me recreate the graphs.So it had nothing to do with my matplotlib install.\n",
    "I learnt a lot about the actor/critic method. The video of pie the pupeteer was really graphic enough to understand the policy and value models, the the experience replay  was made easier with the tennis game animation."
   ]
  }
 ],
 "metadata": {
  "anaconda-cloud": {},
  "kernelspec": {
   "display_name": "Python [default]",
   "language": "python",
   "name": "python3"
  },
  "language_info": {
   "codemirror_mode": {
    "name": "ipython",
    "version": 3
   },
   "file_extension": ".py",
   "mimetype": "text/x-python",
   "name": "python",
   "nbconvert_exporter": "python",
   "pygments_lexer": "ipython3",
   "version": "3.5.3"
  }
 },
 "nbformat": 4,
 "nbformat_minor": 2
}
